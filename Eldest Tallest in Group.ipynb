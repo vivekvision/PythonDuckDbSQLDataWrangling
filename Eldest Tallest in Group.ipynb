{
 "cells": [
  {
   "cell_type": "code",
   "execution_count": 52,
   "id": "535b104c",
   "metadata": {},
   "outputs": [],
   "source": [
    "import pandas as pd\n",
    "import duckdb"
   ]
  },
  {
   "cell_type": "code",
   "execution_count": 53,
   "id": "8668704a",
   "metadata": {},
   "outputs": [],
   "source": [
    "# create an in-memory temporary database by using duckdb.connect()\n",
    "conn = duckdb.connect()"
   ]
  },
  {
   "cell_type": "code",
   "execution_count": 54,
   "id": "fba85d49",
   "metadata": {},
   "outputs": [],
   "source": [
    "group1_df = pd.read_csv(\"./Group_1.csv\")"
   ]
  },
  {
   "cell_type": "code",
   "execution_count": 55,
   "id": "d59c47de",
   "metadata": {},
   "outputs": [],
   "source": [
    "group2_df = pd.read_csv(\"./Group_2.csv\")"
   ]
  },
  {
   "cell_type": "code",
   "execution_count": 56,
   "id": "d498984f",
   "metadata": {},
   "outputs": [
    {
     "data": {
      "text/plain": [
       "<duckdb.duckdb.DuckDBPyConnection at 0x1ce5b731730>"
      ]
     },
     "execution_count": 56,
     "metadata": {},
     "output_type": "execute_result"
    }
   ],
   "source": [
    "# save data-frame to duckdb table \n",
    "conn.register(\"group_1_txt\", group1_df)\n",
    "conn.register(\"group_2_txt\", group2_df)\n"
   ]
  },
  {
   "cell_type": "code",
   "execution_count": 63,
   "id": "0e81a62f",
   "metadata": {},
   "outputs": [],
   "source": [
    "# execute the query \n",
    "# fetchdb() returns a dataframe\n",
    "result_df =conn.execute(\"\"\"\n",
    "\n",
    "select * from group_1_txt\n",
    "\n",
    "\"\"\").fetchdf()"
   ]
  },
  {
   "cell_type": "code",
   "execution_count": 64,
   "id": "3fcf1379",
   "metadata": {},
   "outputs": [
    {
     "data": {
      "text/html": [
       "<div>\n",
       "<style scoped>\n",
       "    .dataframe tbody tr th:only-of-type {\n",
       "        vertical-align: middle;\n",
       "    }\n",
       "\n",
       "    .dataframe tbody tr th {\n",
       "        vertical-align: top;\n",
       "    }\n",
       "\n",
       "    .dataframe thead th {\n",
       "        text-align: right;\n",
       "    }\n",
       "</style>\n",
       "<table border=\"1\" class=\"dataframe\">\n",
       "  <thead>\n",
       "    <tr style=\"text-align: right;\">\n",
       "      <th></th>\n",
       "      <th>PersonID</th>\n",
       "      <th>Height_CM</th>\n",
       "      <th>DOB</th>\n",
       "    </tr>\n",
       "  </thead>\n",
       "  <tbody>\n",
       "    <tr>\n",
       "      <th>0</th>\n",
       "      <td>14521</td>\n",
       "      <td>160</td>\n",
       "      <td>1963-9-3</td>\n",
       "    </tr>\n",
       "    <tr>\n",
       "      <th>1</th>\n",
       "      <td>15321</td>\n",
       "      <td>171</td>\n",
       "      <td>1964-2-12</td>\n",
       "    </tr>\n",
       "    <tr>\n",
       "      <th>2</th>\n",
       "      <td>21821</td>\n",
       "      <td>175</td>\n",
       "      <td>1976-10-11</td>\n",
       "    </tr>\n",
       "    <tr>\n",
       "      <th>3</th>\n",
       "      <td>31721</td>\n",
       "      <td>169</td>\n",
       "      <td>1981-2-12</td>\n",
       "    </tr>\n",
       "    <tr>\n",
       "      <th>4</th>\n",
       "      <td>42421</td>\n",
       "      <td>167</td>\n",
       "      <td>1982-3-12</td>\n",
       "    </tr>\n",
       "    <tr>\n",
       "      <th>5</th>\n",
       "      <td>11431</td>\n",
       "      <td>163</td>\n",
       "      <td>1979-4-12</td>\n",
       "    </tr>\n",
       "    <tr>\n",
       "      <th>6</th>\n",
       "      <td>16123</td>\n",
       "      <td>162</td>\n",
       "      <td>1989-6-10</td>\n",
       "    </tr>\n",
       "  </tbody>\n",
       "</table>\n",
       "</div>"
      ],
      "text/plain": [
       "   PersonID  Height_CM         DOB\n",
       "0     14521        160    1963-9-3\n",
       "1     15321        171   1964-2-12\n",
       "2     21821        175  1976-10-11\n",
       "3     31721        169   1981-2-12\n",
       "4     42421        167   1982-3-12\n",
       "5     11431        163   1979-4-12\n",
       "6     16123        162   1989-6-10"
      ]
     },
     "execution_count": 64,
     "metadata": {},
     "output_type": "execute_result"
    }
   ],
   "source": [
    "result_df"
   ]
  },
  {
   "cell_type": "code",
   "execution_count": 60,
   "id": "c1654741",
   "metadata": {},
   "outputs": [],
   "source": [
    "query1 = \"\"\"\n",
    "\n",
    "with Group1_Enrich as (\n",
    "select \n",
    "  PersonID, \n",
    "  CAST(Height_CM as decimal) as Height,\n",
    "  CAST(DOB AS DATE) as BirthDate\n",
    "from group_1_txt\n",
    "),\n",
    "\n",
    "Group2_Enrich as (\n",
    "select \n",
    "  PersonID, \n",
    "  CAST(Height_CM as decimal) as Height, \n",
    "  CAST(DOB AS DATE) as BirthDate\n",
    "from group_2_txt\n",
    "),\n",
    "Group1_Min_BirthDate as (\n",
    "SELECT\n",
    "     BirthDate,\n",
    "    'Group1' as GroupName,\n",
    "    PersonID,\n",
    "    Height,\n",
    "    'Eldest' as Remarks\n",
    "from Group1_Enrich\n",
    "ORDER BY BirthDate ASC\n",
    "Limit 1\n",
    "),\n",
    "Group1_Max_Height as (\n",
    "select \n",
    "   BirthDate,\n",
    "  'Group1' as GroupName,\n",
    "   PersonID,\n",
    "   Height,\n",
    "  'Tallest' as Remarks\n",
    "from Group1_Enrich\n",
    "ORDER BY Height DESC\n",
    "Limit 1\n",
    "),\n",
    "\n",
    "Group2_Min_BirthDate as (\n",
    "select \n",
    "    BirthDate,\n",
    "   'Group2' as GroupName,\n",
    "   PersonID,\n",
    "   Height,\n",
    "   'Eldest' as Remarks\n",
    " from Group2_Enrich\n",
    " ORDER BY BirthDate ASC\n",
    " LIMIT 1\n",
    "),\n",
    "\n",
    "Group2_Max_Height as (\n",
    "select \n",
    "  BirthDate,\n",
    "  'Group2' as GroupName,\n",
    "  PersonID,\n",
    "  Height,\n",
    "  'Tallest' as Remarks\n",
    "  from Group2_Enrich\n",
    "  ORDER BY Height DESC\n",
    "  Limit 1\n",
    ")\n",
    "\n",
    "---- Return the final result \n",
    "select \n",
    "*\n",
    "from \n",
    " Group1_Min_BirthDate\n",
    "union all\n",
    "select \n",
    "*\n",
    "from \n",
    "  Group1_Max_Height\n",
    "union all\n",
    "select \n",
    "*\n",
    "from \n",
    "  Group2_Min_BirthDate\n",
    "union all\n",
    "select \n",
    "*\n",
    "from   \n",
    "  Group2_Max_Height\n",
    "  \n",
    "\"\"\""
   ]
  },
  {
   "cell_type": "code",
   "execution_count": 61,
   "id": "82de46b6",
   "metadata": {},
   "outputs": [],
   "source": [
    "result1_df =conn.execute(query1).fetchdf()"
   ]
  },
  {
   "cell_type": "code",
   "execution_count": 62,
   "id": "96d42a18",
   "metadata": {},
   "outputs": [
    {
     "data": {
      "text/html": [
       "<div>\n",
       "<style scoped>\n",
       "    .dataframe tbody tr th:only-of-type {\n",
       "        vertical-align: middle;\n",
       "    }\n",
       "\n",
       "    .dataframe tbody tr th {\n",
       "        vertical-align: top;\n",
       "    }\n",
       "\n",
       "    .dataframe thead th {\n",
       "        text-align: right;\n",
       "    }\n",
       "</style>\n",
       "<table border=\"1\" class=\"dataframe\">\n",
       "  <thead>\n",
       "    <tr style=\"text-align: right;\">\n",
       "      <th></th>\n",
       "      <th>BirthDate</th>\n",
       "      <th>GroupName</th>\n",
       "      <th>PersonID</th>\n",
       "      <th>Height</th>\n",
       "      <th>Remarks</th>\n",
       "    </tr>\n",
       "  </thead>\n",
       "  <tbody>\n",
       "    <tr>\n",
       "      <th>0</th>\n",
       "      <td>1963-09-03</td>\n",
       "      <td>Group1</td>\n",
       "      <td>14521</td>\n",
       "      <td>160.0</td>\n",
       "      <td>Eldest</td>\n",
       "    </tr>\n",
       "    <tr>\n",
       "      <th>1</th>\n",
       "      <td>1993-10-11</td>\n",
       "      <td>Group2</td>\n",
       "      <td>21824</td>\n",
       "      <td>175.0</td>\n",
       "      <td>Tallest</td>\n",
       "    </tr>\n",
       "    <tr>\n",
       "      <th>2</th>\n",
       "      <td>1981-02-12</td>\n",
       "      <td>Group2</td>\n",
       "      <td>39721</td>\n",
       "      <td>169.0</td>\n",
       "      <td>Eldest</td>\n",
       "    </tr>\n",
       "    <tr>\n",
       "      <th>3</th>\n",
       "      <td>1976-10-11</td>\n",
       "      <td>Group1</td>\n",
       "      <td>21821</td>\n",
       "      <td>175.0</td>\n",
       "      <td>Tallest</td>\n",
       "    </tr>\n",
       "  </tbody>\n",
       "</table>\n",
       "</div>"
      ],
      "text/plain": [
       "   BirthDate GroupName  PersonID  Height  Remarks\n",
       "0 1963-09-03    Group1     14521   160.0   Eldest\n",
       "1 1993-10-11    Group2     21824   175.0  Tallest\n",
       "2 1981-02-12    Group2     39721   169.0   Eldest\n",
       "3 1976-10-11    Group1     21821   175.0  Tallest"
      ]
     },
     "execution_count": 62,
     "metadata": {},
     "output_type": "execute_result"
    }
   ],
   "source": [
    "result1_df"
   ]
  },
  {
   "cell_type": "code",
   "execution_count": null,
   "id": "d3c1ad7d",
   "metadata": {},
   "outputs": [],
   "source": []
  }
 ],
 "metadata": {
  "kernelspec": {
   "display_name": "Python 3 (ipykernel)",
   "language": "python",
   "name": "python3"
  },
  "language_info": {
   "codemirror_mode": {
    "name": "ipython",
    "version": 3
   },
   "file_extension": ".py",
   "mimetype": "text/x-python",
   "name": "python",
   "nbconvert_exporter": "python",
   "pygments_lexer": "ipython3",
   "version": "3.11.5"
  }
 },
 "nbformat": 4,
 "nbformat_minor": 5
}
